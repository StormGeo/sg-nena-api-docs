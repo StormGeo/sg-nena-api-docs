{
 "cells": [
  {
   "cell_type": "code",
   "execution_count": null,
   "id": "135247f8-923c-4f02-8df2-bb742a723fc7",
   "metadata": {},
   "outputs": [],
   "source": [
    "import numpy as np\n",
    "import pandas as pd\n",
    "from bokeh.models import ColumnDataSource, HoverTool, Label, Range1d\n",
    "from bokeh.plotting import figure, output_notebook, show\n",
    "\n",
    "from nena_api import get_series_data, obtain_access_token"
   ]
  },
  {
   "cell_type": "markdown",
   "id": "4370d1a4-74e4-4387-9a98-93f2e6f2165b",
   "metadata": {},
   "source": [
    "# Visualization of Danish wind power production (2021)"
   ]
  },
  {
   "cell_type": "markdown",
   "id": "50b8312a-34a3-4ee3-a519-401fe66e1df6",
   "metadata": {},
   "source": [
    "In this notebook we will display data and statistics on the Danish wind power production last year (2021).The tutorial uses a set of function wrappers around the API requests to make it easier to use. These are located in nena_api.py\n",
    "\n",
    "In this tutorial the plotting is done using the Bokeh plotting library. Make sure you have\n",
    "installed this along with the JupyterLab Bokeh extension."
   ]
  },
  {
   "cell_type": "code",
   "execution_count": null,
   "id": "4cb1458e-8ed7-454b-ad29-7980a276bbfb",
   "metadata": {},
   "outputs": [],
   "source": [
    "USER = \"\"  # Insert your Nena username\n",
    "PASS = \"\"  # Insert your Nena password\n",
    "ROOT = \"https://api.nena.no\""
   ]
  },
  {
   "cell_type": "code",
   "execution_count": null,
   "id": "bb94bf4c-d6a3-473c-92ff-29097d8db43f",
   "metadata": {},
   "outputs": [],
   "source": [
    "DK_WIND_CAP = 7000  # Wind power capcity in Denmark (MW) in 2021 - data from https://ens.dk/service/statistik-data-noegletal-og-kort/data-oversigt-over-energisektoren.\n",
    "SERIES_ID = \"nhdkwind\""
   ]
  },
  {
   "cell_type": "code",
   "execution_count": null,
   "id": "ba4cda4e-5658-4fc1-9fc0-3225b08e758b",
   "metadata": {},
   "outputs": [],
   "source": [
    "def get_wind_data(series_id, from_date, to_date):\n",
    "    \"\"\"\n",
    "    Helper function for getting wind data from the API.\n",
    "    \"\"\"\n",
    "    data = get_series_data(\n",
    "        series_id=SERIES_ID,\n",
    "        user_auth=obtain_access_token(username=USER, password=PASS, root_url=ROOT),\n",
    "        from_date=from_date,\n",
    "        to_date=to_date,\n",
    "        resolution=\"hr\",\n",
    "    )\n",
    "\n",
    "    df = pd.DataFrame.from_dict(\n",
    "        data[\"Values\"], orient=\"index\", columns=[data[\"Meta\"][\"unit\"]]\n",
    "    )\n",
    "    df.index.name = \"Time\"\n",
    "    df = df.sort_values(by=\"MWh\")\n",
    "    df.reset_index(inplace=True)\n",
    "    df.Time = df.Time.apply(lambda x: pd.to_datetime(x))\n",
    "\n",
    "    return df\n",
    "\n",
    "\n",
    "def calc_stats(df):\n",
    "    \"\"\"\n",
    "    Function for calculating and returning a dictionary of dataframes with each key being a \n",
    "    percentile.\n",
    "    \"\"\"\n",
    "    percentiles = [0.25, 0.5, 0.75, 0.9]\n",
    "    dfs = {}\n",
    "    for p in percentiles:\n",
    "        y = df[\"Rel. Power\"].quantile(p)\n",
    "        xs = np.arange(0, df.shape[0], 1)\n",
    "        ys = np.ones(df.shape[0]) * y\n",
    "        arr = np.vstack((xs, ys)).T\n",
    "        dfs[p] = pd.DataFrame(arr, columns=[\"Hour\", \"Power\"])\n",
    "    return dfs"
   ]
  },
  {
   "cell_type": "markdown",
   "id": "1829cdc2-3bdc-4f76-894d-f1102a41cd7c",
   "metadata": {},
   "source": [
    "We load the data from last year by using the convenience  keywords \"boy-1\" and \"eoy-1\" which are the beginning and end of last year's dates"
   ]
  },
  {
   "cell_type": "code",
   "execution_count": null,
   "id": "0e9fab3a-691d-4018-a5f5-e32902d26564",
   "metadata": {},
   "outputs": [],
   "source": [
    "df = get_wind_data(SERIES_ID, \"boy-1\", \"eoy-1\")\n",
    "MAX_CAPACITY = np.array(\n",
    "    (np.arange(0, df.shape[0]), np.ones(df.shape[0]) * 100)\n",
    ").T  # A mock array for creating a vertical line. See below.\n",
    "\n",
    "\n",
    "df_stats = df.reset_index()\n",
    "df_stats[\"Rel. Power\"] = (\n",
    "    df_stats[\"MWh\"] * 100 / DK_WIND_CAP\n",
    ")  # We calculate the relative power to installed capacity.\n",
    "stats = calc_stats(df_stats)  # Calculates percentile statistics"
   ]
  },
  {
   "cell_type": "code",
   "execution_count": null,
   "id": "d597feaf-39ff-470a-be5a-917e0ba5e120",
   "metadata": {},
   "outputs": [],
   "source": [
    "output_notebook()\n",
    "source = ColumnDataSource(df_stats)\n",
    "\n",
    "ANNOTATION_FONT_SIZE = \"8pt\"\n",
    "\n",
    "p = figure(x_range=(0, 24 * 365), y_range=(0, 110))\n",
    "\n",
    "p.line(\n",
    "    x=\"index\",\n",
    "    y=\"Rel. Power\",\n",
    "    line_width=1.5,\n",
    "    line_color=\"black\",\n",
    "    source=source,\n",
    "    legend_label=\"DK Wind. Prod. 2021\",\n",
    ")\n",
    "\n",
    "p.line(\n",
    "    x=MAX_CAPACITY[:, 0],\n",
    "    y=MAX_CAPACITY[:, 1],\n",
    "    line_width=1.5,\n",
    "    line_dash=\"dashed\",\n",
    "    line_color=\"red\",\n",
    ")\n",
    "\n",
    "llb_max = Label(\n",
    "    x=200,\n",
    "    y=(DK_WIND_CAP + 50) * 100 / DK_WIND_CAP,\n",
    "    text=f\"Installed Capacity (IC): {DK_WIND_CAP} MW\",\n",
    "    text_font_size=ANNOTATION_FONT_SIZE,\n",
    "    text_font_style=\"bold\",\n",
    ")\n",
    "p.add_layout(llb_max)\n",
    "\n",
    "\n",
    "for pe in stats:\n",
    "    if pe == 0.25:\n",
    "        x_pos = 5200\n",
    "    else:\n",
    "        x_pos = 200\n",
    "    p.line(x=stats[pe].Hour, y=stats[pe].Power, line_dash=\"dotted\", line_width=1.5, line_color=\"grey\")\n",
    "    achieved_power = stats[pe].Power[100]\n",
    "    llb = Label(\n",
    "        x=x_pos,\n",
    "        y=achieved_power + 0.5,\n",
    "        text=f\"{int(pe*100)}th-pctl achieves less than {int(achieved_power)} % of IC.\",\n",
    "        text_font_size=ANNOTATION_FONT_SIZE,\n",
    "        text_font_style=\"bold\",\n",
    "    )\n",
    "    p.add_layout(llb)\n",
    "\n",
    "\n",
    "p.xaxis.axis_label = \"Hour\"\n",
    "p.yaxis.axis_label = \"Production over installed capacity (%-MWh/MWh)\"\n",
    "p.title.text = \"Hourly danish wind power production (2021)\"\n",
    "p.legend.label_text_font_size = \"8pt\"\n",
    "\n",
    "\n",
    "show(p)"
   ]
  }
 ],
 "metadata": {
  "kernelspec": {
   "display_name": "Python 3 (ipykernel)",
   "language": "python",
   "name": "python3"
  },
  "language_info": {
   "codemirror_mode": {
    "name": "ipython",
    "version": 3
   },
   "file_extension": ".py",
   "mimetype": "text/x-python",
   "name": "python",
   "nbconvert_exporter": "python",
   "pygments_lexer": "ipython3",
   "version": "3.9.7"
  }
 },
 "nbformat": 4,
 "nbformat_minor": 5
}

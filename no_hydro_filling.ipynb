{
 "cells": [
  {
   "cell_type": "code",
   "execution_count": null,
   "id": "9970fecd-cbef-4df2-9d49-138f1c182f03",
   "metadata": {
    "tags": []
   },
   "outputs": [],
   "source": [
    "%matplotlib widget\n",
    "\n",
    "import re\n",
    "\n",
    "from bokeh.models import Band, ColumnDataSource, HoverTool, Range1d\n",
    "from bokeh.plotting import figure, output_file, output_notebook, show\n",
    "import pandas as pd\n",
    "import numpy as np\n",
    "import requests\n",
    "\n",
    "from nena_api import (\n",
    "    get_series_data,\n",
    "    obtain_access_token,\n",
    "    retrieve_metadata_by_prefix,\n",
    ")"
   ]
  },
  {
   "cell_type": "markdown",
   "id": "544af583-0694-4766-8e86-30e39e233147",
   "metadata": {},
   "source": [
    "## Hydro reservoir visualization tutorial.\n",
    "\n",
    "In this tutorial we will showcase how to plot the hydro reservoir filling in Norway using the historical\n",
    "data available from the Nena API. The tutorial uses a set of function wrappers around the API requests\n",
    "to make it easier to use. These are located in nena_api.py\n",
    "\n",
    "In this tutorial the plotting is done using the Bokeh plotting library. Make sure you have\n",
    "installed this along with the JupyterLab Bokeh extension."
   ]
  },
  {
   "cell_type": "markdown",
   "id": "8234ed47-c96f-4968-95e8-315d79943b90",
   "metadata": {},
   "source": [
    "To access data from the API we need to provide our Nena portal username and password. The\n",
    "root URL is also needed."
   ]
  },
  {
   "cell_type": "markdown",
   "id": "dd852bf7-a997-4e4f-9f1b-12be7e5d06a9",
   "metadata": {},
   "source": [
    "We are interested in the %-filling of the Norwegian reservoirs, so we need to know the total\n",
    "reservoir capacity. This value can be found on NVE's (Norwegian Water Resources and Energy Directorate) [website](https://www.nve.no/energi/analyser-og-statistikk/magasinstatistikk/)."
   ]
  },
  {
   "cell_type": "code",
   "execution_count": null,
   "id": "15c2b4d0-e11a-419d-aaa7-2845c682d748",
   "metadata": {},
   "outputs": [],
   "source": [
    "USER = \"\"  # Insert your Nena username\n",
    "PASS = \"\"  # Insert your Nena password\n",
    "ROOT = \"https://api.nena.no\""
   ]
  },
  {
   "cell_type": "code",
   "execution_count": null,
   "id": "9dd3a4fb-ce51-449b-a14c-8be72cb5776a",
   "metadata": {
    "tags": []
   },
   "outputs": [],
   "source": [
    "NO_RESERVOIR_CAPACITY = 87200  # The total reservoir capacity in GWh\n",
    "NO_RES_SERIES = {\"NO\": \"hpddanoresa\"}  # Series ID for Norwegian reservoir capacity"
   ]
  },
  {
   "cell_type": "code",
   "execution_count": null,
   "id": "a3fe9d71-320e-417f-ae70-ce3027543d67",
   "metadata": {
    "tags": []
   },
   "outputs": [],
   "source": [
    "def prep_df(df, relative=True):\n",
    "    \"\"\"\n",
    "    Helper function for preparing dataframe.\n",
    "    \"\"\"\n",
    "    df.index = pd.to_datetime(df.index).isocalendar().week\n",
    "    df.index.name = \"week\"\n",
    "    df = df.reindex(np.arange(1, 53))\n",
    "\n",
    "    if relative:\n",
    "        df = df * 100 / NO_RESERVOIR_CAPACITY\n",
    "    df.reset_index(inplace=True)\n",
    "\n",
    "    return df\n",
    "\n",
    "\n",
    "def retrieve_data(series_id, from_date, to_date, keyword):\n",
    "    \"\"\"\n",
    "    Helper function for getting hydrological data.\n",
    "    \"\"\"\n",
    "    data = get_series_data(\n",
    "        series_id=series_id,\n",
    "        from_date=from_date,\n",
    "        to_date=to_date,\n",
    "        resolution=keyword,\n",
    "        user_auth=obtain_access_token(username=USER, password=PASS, root_url=ROOT),\n",
    "    )\n",
    "    return data\n",
    "\n",
    "\n",
    "def calc_statistics(df, column, relative=False, reindex=False):\n",
    "    \"\"\"\n",
    "    Calculates weekly median, min, and max statistics \n",
    "    on time series.\n",
    "    \n",
    "    Args.\n",
    "    df [DataFrame] : Time series data\n",
    "    column [str] : Column name to apply statistics to.\n",
    "    relative [bool] : Data is converted to percentages.\n",
    "    \n",
    "    Returns.\n",
    "    df_stats [DataFrame] : Weekly stats.\n",
    "    \"\"\"\n",
    "\n",
    "    df.index.name = \"time\"\n",
    "    df.index = pd.to_datetime(df.index)\n",
    "    df.reset_index(inplace=True)\n",
    "\n",
    "    median = df.groupby(df[\"time\"].dt.isocalendar().week)[column].mean()\n",
    "    minimum = df.groupby(df[\"time\"].dt.isocalendar().week)[column].min()\n",
    "    maximum = df.groupby(df[\"time\"].dt.isocalendar().week)[column].max()\n",
    "\n",
    "    df_stats = pd.concat([maximum, median, minimum], axis=1).iloc[:52, :]\n",
    "    df_stats = pd.concat([df_stats.iloc[35:], df_stats.iloc[:35]])\n",
    "    df_stats.columns = [\"max\", \"median\", \"min\"]\n",
    "\n",
    "    if relative:\n",
    "        df_stats = df_stats * 100 / NO_RESERVOIR_CAPACITY\n",
    "\n",
    "    df_stats.index.name = \"week\"\n",
    "    df_stats.reset_index(inplace=True)\n",
    "\n",
    "    return df_stats"
   ]
  },
  {
   "cell_type": "markdown",
   "id": "6dd9c3fb-c2a0-4467-b19f-24aafc65a030",
   "metadata": {},
   "source": [
    "Here we load the hydrological data. We can use the keywords: \"bohy-20\" to get the date at the start of the hydrological year (1st of september) 20 years ago (effectivly our data goes back to 2014 only), followed by \"eohy-1\" which is the end of lasts years hydrological year (2021-08-31)."
   ]
  },
  {
   "cell_type": "code",
   "execution_count": null,
   "id": "b8c26061-bc6e-4af3-8612-0759560b9b3d",
   "metadata": {
    "tags": []
   },
   "outputs": [],
   "source": [
    "df_hydro_history = pd.DataFrame.from_dict(\n",
    "    retrieve_data(NO_RES_SERIES['NO'], \"bohy-20\", \"eohy-1\", \"week\")[\"Values\"],\n",
    "    orient=\"index\",\n",
    "    columns=[\"capacity\"],\n",
    ")\n",
    "\n",
    "df_current_year = pd.DataFrame.from_dict(\n",
    "    retrieve_data(NO_RES_SERIES['NO'], \"eohy-1\", \"last\", \"week\")[\"Values\"],\n",
    "    orient=\"index\",\n",
    "    columns=[\"capacity\"],\n",
    ")"
   ]
  },
  {
   "cell_type": "markdown",
   "id": "c4b6aebb-dc2a-42a9-a123-72c09140647a",
   "metadata": {},
   "source": [
    "Now we calculate some statistics on the historical hydro data and do some general data prep.\n",
    "Lastly we merge the data into a single dataframe."
   ]
  },
  {
   "cell_type": "code",
   "execution_count": null,
   "id": "91b4f1d0-cd4d-4782-949f-e71871358fd5",
   "metadata": {
    "tags": []
   },
   "outputs": [],
   "source": [
    "df_history_stats = calc_statistics(df_hydro_history, \"capacity\", relative=True)\n",
    "df_current_year_cleaned = prep_df(df_current_year)\n",
    "df_tot = pd.merge(\n",
    "    df_history_stats, df_current_year_cleaned, right_on=\"week\", left_on=\"week\"\n",
    ")  # Merging historical df with current years data\n",
    "df_tot = df_tot.sort_values(by=\"week\")"
   ]
  },
  {
   "cell_type": "markdown",
   "id": "bd17cca5-f991-4b4f-a151-1341b8da75c1",
   "metadata": {},
   "source": [
    "## Plot"
   ]
  },
  {
   "cell_type": "markdown",
   "id": "cf4f5243-c83a-4c56-bb33-93e530511d3c",
   "metadata": {},
   "source": [
    "Below is an interactive Bokeh plot with the reservoir filling."
   ]
  },
  {
   "cell_type": "code",
   "execution_count": null,
   "id": "0f4aa410-d331-4591-bdfb-1867f225d116",
   "metadata": {
    "tags": []
   },
   "outputs": [],
   "source": [
    "output_notebook()\n",
    "source = ColumnDataSource(df_tot)\n",
    "\n",
    "TOOLS = \"pan,wheel_zoom,box_zoom,reset,save\"\n",
    "p = figure(tools=TOOLS, width=800, height=400, x_range=(1, 52), y_range=(0, 100))\n",
    "\n",
    "p.line(\n",
    "    x=\"week\",\n",
    "    y=\"capacity\",\n",
    "    line_color=\"black\",\n",
    "    line_width=1.5,\n",
    "    legend_label=\"2021-22\",\n",
    "    source=source,\n",
    ")\n",
    "\n",
    "p.line(\n",
    "    x=\"week\",\n",
    "    y=\"median\",\n",
    "    line_color=\"red\",\n",
    "    line_dash=\"dashed\",\n",
    "    legend_label=\"Median\",\n",
    "    source=source,\n",
    "    name=\"line_with_hovertool\",\n",
    ")\n",
    "\n",
    "\n",
    "p.varea(\n",
    "    x=\"week\",\n",
    "    y1=\"min\",\n",
    "    y2=\"max\",\n",
    "    source=source,\n",
    "    fill_alpha=0.1,\n",
    "    fill_color=\"red\",\n",
    "    legend_label=\"Min-Max.\",\n",
    ")\n",
    "\n",
    "\n",
    "p.title.text = \"Norwegian hydro reservoir filling (2014-21)\"\n",
    "p.xgrid[0].grid_line_color = None\n",
    "p.ygrid[0].grid_line_alpha = 0.5\n",
    "p.xaxis.axis_label = \"Week\"\n",
    "p.yaxis.axis_label = \"%\"\n",
    "\n",
    "p.legend.location = \"bottom_right\"\n",
    "\n",
    "tooltips = [\n",
    "    (\"Week\", \"@week\"),\n",
    "    (\"Median\", \"@median\"),\n",
    "    (\"Cur. HY\", \"@capacity\"),\n",
    "    (\"Min\", \"@min\"),\n",
    "    (\"Max\", \"@max\"),\n",
    "]\n",
    "\n",
    "p.add_tools(HoverTool(names=[\"line_with_hovertool\"], tooltips=tooltips, mode=\"vline\"))\n",
    "show(p)"
   ]
  }
 ],
 "metadata": {
  "kernelspec": {
   "display_name": "Python 3 (ipykernel)",
   "language": "python",
   "name": "python3"
  },
  "language_info": {
   "codemirror_mode": {
    "name": "ipython",
    "version": 3
   },
   "file_extension": ".py",
   "mimetype": "text/x-python",
   "name": "python",
   "nbconvert_exporter": "python",
   "pygments_lexer": "ipython3",
   "version": "3.9.7"
  }
 },
 "nbformat": 4,
 "nbformat_minor": 5
}

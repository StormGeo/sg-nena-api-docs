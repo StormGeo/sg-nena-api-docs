{
 "cells": [
  {
   "cell_type": "markdown",
   "id": "fb3dec18-6ef1-430e-a21b-e016ce1c8bfe",
   "metadata": {},
   "source": [
    "<img src=\"images/Frame_108.png\" style=\"margin:auto\"/>"
   ]
  },
  {
   "cell_type": "markdown",
   "id": "ff8fa3f1-d717-4a28-aec8-417e2dc5ca9b",
   "metadata": {},
   "source": [
    "___"
   ]
  },
  {
   "cell_type": "markdown",
   "id": "f335ede5-1ff3-416f-bedb-77aa4cb57378",
   "metadata": {},
   "source": [
    "# Interactive Nena-API Tutorial With Python"
   ]
  },
  {
   "cell_type": "code",
   "execution_count": null,
   "id": "a2aa4850-b20b-4689-aa02-92f08264dc04",
   "metadata": {
    "tags": []
   },
   "outputs": [],
   "source": [
    "import requests\n",
    "import pandas as pd\n",
    "import matplotlib.pyplot as plt\n",
    "from typing import Dict, List, Tuple\n",
    "plt.style.use('ggplot')"
   ]
  },
  {
   "cell_type": "markdown",
   "id": "1738776f-dcce-4ff8-951e-5e1e5a868c16",
   "metadata": {},
   "source": [
    "## Introduction"
   ]
  },
  {
   "cell_type": "markdown",
   "id": "e16d9e5e-86f7-40b2-a318-1374c86d615a",
   "metadata": {},
   "source": [
    "StormGeo Nena analysis currently offers a REST-API for fetching most of the data available on the [fundamentals](https://nena.no/secure/fundamentals/) page of Nena analysis.\n",
    "In this interactive tutorial we will: \n",
    "* Show how to use the Python Requests package for for fetching data from the API\n",
    "* Use the Pandas library to read-in and plot the data from the API.\n",
    "\n",
    "Our API has three endpoints:\n",
    "* */api/fundamental/meta* - Metadata for a single data series.\n",
    "* */api/fundamental/meta/all* - Metadata for a group of series with identical SeriesId prefix.\n",
    "* */api/fundamental/series* - Series data. I.e. the same data shown on the fundamentals page.\n",
    "___"
   ]
  },
  {
   "cell_type": "markdown",
   "id": "65cb924a-5f10-499a-8623-759b2a224184",
   "metadata": {},
   "source": [
    "## Accessing to the API"
   ]
  },
  {
   "cell_type": "markdown",
   "id": "a7b2155d-a8a5-4691-afa8-efb8c8525b3e",
   "metadata": {},
   "source": [
    "User authentication is done by generating an access token. The token will be valid for 15 minutes, after which you\n",
    "need to request a new token. The access token needs to be submitted in all requests.\n",
    "We will now go through how to generate an access token using your Nena user login credentials. To proceed with the tutorial assign your username and password to __USER__ and __PASS__."
   ]
  },
  {
   "cell_type": "code",
   "execution_count": null,
   "id": "b20e6eee-e3e8-41ec-99a7-805982bc1787",
   "metadata": {
    "tags": []
   },
   "outputs": [],
   "source": [
    "ROOT = \"https://api.nena.no\"  # Root url\n",
    "USER = \"\"  # Username\n",
    "PASS = \"\"  # Password"
   ]
  },
  {
   "cell_type": "markdown",
   "id": "8f8980ab-0c88-4308-a104-08a88d27ba4a",
   "metadata": {
    "tags": []
   },
   "source": [
    "### Obtain an access token"
   ]
  },
  {
   "cell_type": "markdown",
   "id": "c323e205-9ac1-47c4-be55-c612b01df9cf",
   "metadata": {},
   "source": [
    "To obtain an access token we must submit a post request to the */api/user/login/* endpoint. The request must contain\n",
    "a json body with your username and password. Here we have written a simple function called *obtain_access_token()*, which takes your user login and returns an access token. "
   ]
  },
  {
   "cell_type": "code",
   "execution_count": null,
   "id": "75149456-094a-4c72-8338-33dc95319e6e",
   "metadata": {
    "tags": []
   },
   "outputs": [],
   "source": [
    "def obtain_access_token(username: str, password: str, root_url: str) -> Tuple:\n",
    "    \"\"\" Function for obtaining an API access token.\n",
    "    Args\n",
    "    username [str] : nena account username\n",
    "    password [str] : nena account password\n",
    "    root_url [str] : api root url.\n",
    "    Returns\n",
    "    (username, token) [tuple] : A tuple containing username and access token.\n",
    "    \"\"\"\n",
    "    endpoint_auth = \"/api/user/login\"\n",
    "\n",
    "    userdata = {\n",
    "      \"UserName\": f\"{username}\",\n",
    "      \"Password\": f\"{password}\"\n",
    "    }\n",
    "    url = root_url + endpoint_auth\n",
    "    res_auth = requests.post(url=url, json=userdata).json()\n",
    "    return (res_auth['UserName'], res_auth['Token'], root_url)"
   ]
  },
  {
   "cell_type": "code",
   "execution_count": null,
   "id": "d79a52bd-78c4-4d9d-b233-3d30a223a79b",
   "metadata": {
    "tags": []
   },
   "outputs": [],
   "source": [
    "username, token, _ = obtain_access_token(USER, PASS, ROOT)\n",
    "print(f'Your acccess token: {token}')"
   ]
  },
  {
   "cell_type": "markdown",
   "id": "86d42560-a199-4158-8ab7-c81e8d775479",
   "metadata": {},
   "source": [
    "___"
   ]
  },
  {
   "cell_type": "markdown",
   "id": "949ccab1-df1d-47b4-be09-affc09064f14",
   "metadata": {
    "tags": []
   },
   "source": [
    "## Retrieve metadata on a single series"
   ]
  },
  {
   "cell_type": "markdown",
   "id": "23728771-41a4-4778-9092-34e3d80b565c",
   "metadata": {},
   "source": [
    "With our access token we can retrieve data from the API. We will start by fetching metadata for a single series."
   ]
  },
  {
   "cell_type": "markdown",
   "id": "d5127259-e2b4-4db3-9778-32838db8cc59",
   "metadata": {
    "tags": []
   },
   "source": [
    "### Where do I find the Series ID?"
   ]
  },
  {
   "cell_type": "markdown",
   "id": "caf442d0-7460-406c-b3b0-c5cc3fadbe4f",
   "metadata": {},
   "source": [
    "You can find any series id by goint to the [fundamentals](https://nena.no/secure/fundamentals/) page, selecting a series and noting the id in the metadata table. <br>Let's find the series containing \"Hourly Wind Production\" for UK. <br>\n",
    "\n",
    "We see that the Series ID for \"Hourly Wind Production in the UK\" is called: __\"ukhrwind\"__.\n",
    "\n",
    "![](images/finding_series_id_on_fundamentals_page.PNG)"
   ]
  },
  {
   "cell_type": "markdown",
   "id": "e84dd9dd-1f53-4a00-afa2-be9525e36bf1",
   "metadata": {},
   "source": [
    "With our Series ID we can now retrieve addition metadata by using the function below:"
   ]
  },
  {
   "cell_type": "code",
   "execution_count": null,
   "id": "544804a4-f6b5-4288-bc17-386e8b0eb5a6",
   "metadata": {
    "tags": []
   },
   "outputs": [],
   "source": [
    "def retrieve_series_metadata(series_id: str, user_auth: Tuple):\n",
    "    \"\"\" Function which retrieves single series metadata.\n",
    "    Args\n",
    "    series_id [str] : Id for wanted series.\n",
    "    user_auth [Tuple] : Tuple with username and access token.\n",
    "    Returns\n",
    "    res_single_series [Dict] : Dictionary with series meta data.\n",
    "    \"\"\"\n",
    "    username, token, root_url = user_auth\n",
    "    endpoint_meta_single = \"/api/fundamental/meta\"\n",
    "    url = root_url + endpoint_meta_single\n",
    "\n",
    "    form_input = {\n",
    "      \"SeriesId\": f\"{series_id}\",\n",
    "      \"UserInfo\": {\n",
    "        \"UserName\": f\"{username}\",\n",
    "        \"Token\": f\"{token}\"\n",
    "      }\n",
    "    }\n",
    "    res_single_series = requests.post(url=url, json=form_input)\n",
    "    return res_single_series.json()"
   ]
  },
  {
   "cell_type": "code",
   "execution_count": null,
   "id": "1a0ad05b-6a10-4238-852a-33cd94e26e31",
   "metadata": {
    "tags": []
   },
   "outputs": [],
   "source": [
    "res_metadata_single_series = retrieve_series_metadata(\n",
    "    series_id=\"ukhrwind\",\n",
    "    user_auth=obtain_access_token(USER, PASS, ROOT)\n",
    ")\n",
    "\n",
    "df_single = pd.DataFrame.from_dict(\n",
    "    res_metadata_single_series,\n",
    "    orient='index',\n",
    "    columns=['Value'])\n",
    "\n",
    "df_single"
   ]
  },
  {
   "cell_type": "markdown",
   "id": "93b9cc7e-5343-4fa2-a824-14fd9428ac6a",
   "metadata": {},
   "source": [
    "___"
   ]
  },
  {
   "cell_type": "markdown",
   "id": "ab518973-9a36-447c-a0a5-d8ccb12c547b",
   "metadata": {
    "tags": []
   },
   "source": [
    "## Retrieve series metadata by performing prefix search "
   ]
  },
  {
   "cell_type": "markdown",
   "id": "9475845f-14b6-4386-8e7a-96818d7031d4",
   "metadata": {},
   "source": [
    "Let's now try to find series metadata for many series. This is usefull when you want to fetch data from series which are related, for example by country or model. Our goal now is to find all the renewable energy production data and spot price for the UK. <br>\n",
    "\n",
    "We use the __/api/fundamental/meta/all__ endpoint to find every Series ID related by a common prefix. We can use this method to find series matching a\n",
    "country or forecast model:\n",
    "\n",
    "* Prefix: \"uk\" &rarr; Gets all series meta data related to UK.\n",
    "* Prefix: \"nhse\" &rarr; Gets all series related to the nordic balance for Sweden.\n"
   ]
  },
  {
   "cell_type": "markdown",
   "id": "39855d7a-bb3b-4a97-8ba5-6d7f296cf060",
   "metadata": {},
   "source": [
    "### How can I find a prefix?"
   ]
  },
  {
   "cell_type": "markdown",
   "id": "e71eedb3-f7d2-45ad-b306-8804c40ef881",
   "metadata": {},
   "source": [
    "With prefix we simple mean the first few letters of a series id. For example, all data series related to UK \n",
    "have a series id which start with \"uk\". You can always go to the fundamentals page and find usefull prefix search keywords. As shown below we can\n",
    "find all Nordic Balance series related to Sweden by looking at the following prefix.\n",
    "\n",
    "![](images/finding_prefix_on_fundamentals_page.PNG)"
   ]
  },
  {
   "cell_type": "code",
   "execution_count": null,
   "id": "563f3344-e076-4737-bdac-c278cd94dc00",
   "metadata": {
    "tags": []
   },
   "outputs": [],
   "source": [
    "def retrieve_metadata_by_prefix(prefix: str, user_auth: Tuple):\n",
    "    \"\"\" Function which retrieves metadata for many data series with common\n",
    "    series id prefix.\n",
    "    \n",
    "    Ex. We can search by country using a prefix:\n",
    "        - \"uk\"\n",
    "        - \"ukhr\"\n",
    "        - \"ukday\"\n",
    "    or we can search by forecast model:\n",
    "        - \"nh\" : Series found in the nordic balance.\n",
    "        - \"nhse\" : Series related to Swedish nordic balance.\n",
    "    Args\n",
    "    prefix [str] : The prefix search keyword. These can be found on Nena\n",
    "    fundamentals.\n",
    "    user_auth [Tuple] : Tuple with username and access token.\n",
    "    Returns\n",
    "    (res_all_serie, series_ids) [tuple] : Tuple with request result and a list of\n",
    "    all seriesIds.\n",
    "    \"\"\"\n",
    "    endpoint_allseries = \"/api/fundamental/meta/all\"\n",
    "    username, token, root_url = user_auth\n",
    "    \n",
    "    url = root_url + endpoint_allseries\n",
    "    \n",
    "    form_all = {\n",
    "      \"Prefix\": f\"{prefix}\",\n",
    "      \"UserInfo\": {\n",
    "        \"UserName\": f\"{username}\",\n",
    "        \"Token\": f\"{token}\"\n",
    "      }\n",
    "    }\n",
    "\n",
    "    res_all_series = requests.post(url=url, json=form_all).json()\n",
    "\n",
    "    series_ids = []\n",
    "    for series in res_all_series:\n",
    "        series_ids.append(series['Code'])\n",
    "    return (res_all_series, series_ids)"
   ]
  },
  {
   "cell_type": "code",
   "execution_count": null,
   "id": "ef32e754-4456-4807-ab69-bf61bf33ffaa",
   "metadata": {
    "tags": []
   },
   "outputs": [],
   "source": [
    "meta_data_all, series_codes = retrieve_metadata_by_prefix(\n",
    "    prefix=\"uk\",\n",
    "    user_auth=obtain_access_token(USER, PASS, ROOT),\n",
    ")\n",
    "print('All Series IDs related to the UK \\n')\n",
    "print(series_codes)"
   ]
  },
  {
   "cell_type": "markdown",
   "id": "dad319af-1446-45a1-a5d7-4af3ca91edf7",
   "metadata": {},
   "source": [
    "___"
   ]
  },
  {
   "cell_type": "markdown",
   "id": "db984e8b-8da4-44da-8c46-e8ee33ff9db5",
   "metadata": {
    "tags": []
   },
   "source": [
    "## Retrieving series data"
   ]
  },
  {
   "cell_type": "markdown",
   "id": "d91b245f-2cab-441b-9b3b-49c7828eb993",
   "metadata": {},
   "source": [
    "Once we have the series ids we can start to fetch the actual series data. We will start by writing a function witch fetches a single data series. This function will be re-used to fetch many series later."
   ]
  },
  {
   "cell_type": "code",
   "execution_count": null,
   "id": "8d887a36-4842-4052-9537-8e6c2e93aaec",
   "metadata": {
    "tags": []
   },
   "outputs": [],
   "source": [
    "def get_series_data(\n",
    "    series_id: str, user_auth: Tuple, from_date, to_date, resolution: str\n",
    ") -> Dict:\n",
    "    \"\"\"Function to get data for a series.\n",
    "    Args\n",
    "    series_id [str] : Series ID\n",
    "    user_auth [Tuple] : Tuple with username and access token.\n",
    "    from_date [str] : datetime string on the format 2022-01-10\n",
    "    to_date [str] : datetime string on the format 2022-01-20\n",
    "    resolution [str] : keyword to filter and re-sample data. See the documentation.\n",
    "    Returns\n",
    "    series_result [Dict] : Dictionary of request result.\n",
    "    \"\"\"\n",
    "    username, token, root_url = user_auth\n",
    "    endpoint_series_data = \"/api/fundamental/series\"\n",
    "    url = root_url + endpoint_series_data\n",
    "\n",
    "    series_data = {\n",
    "        \"FromDateTime\": f\"{from_date}\",\n",
    "        \"ToDateTime\": f\"{to_date}\",\n",
    "        \"Resolution\": f\"{resolution}\",\n",
    "        \"SeriesId\": f\"{series_id}\",\n",
    "        \"UserInfo\": {\"UserName\": f\"{username}\", \"Token\": f\"{token}\"},\n",
    "    }\n",
    "\n",
    "    series_result = requests.post(url=url, json=series_data).json()\n",
    "    return series_result"
   ]
  },
  {
   "cell_type": "markdown",
   "id": "581f9efa-1e96-431e-a41d-83542bd6bf3d",
   "metadata": {},
   "source": [
    "The date information needs to be on a valid datetime string format. Ex: \"2021-12-01\", but it is also possible to use keywords like \"today+30\". The *Resolution* parameter refers to the time resolution of the time series data. Here we can specify either \"hr\", \"day\", or \"week\" to resample the time series to the corresponding time interval."
   ]
  },
  {
   "cell_type": "code",
   "execution_count": null,
   "id": "ab6be585-f752-465c-af05-cf125078e27c",
   "metadata": {
    "tags": []
   },
   "outputs": [],
   "source": [
    "uk_price_series = 'ukhrprice'\n",
    "\n",
    "uk_series_result_hr = get_series_data(\n",
    "    series_id=uk_price_series,\n",
    "    user_auth=obtain_access_token(USER, PASS, ROOT),\n",
    "    from_date='today-30', ## We go back 30 days in time\n",
    "    to_date='today+14', ## We want the 14 days forecasted data as well.\n",
    "    resolution='hr'\n",
    ")"
   ]
  },
  {
   "cell_type": "markdown",
   "id": "f8709b3c-5342-4558-bdd7-182dd51e0fd0",
   "metadata": {},
   "source": [
    "We use Pandas to convert the returned json data from our request into a dataframe. We can then plot the data using f.ex. pandas built-in plotting methods."
   ]
  },
  {
   "cell_type": "code",
   "execution_count": null,
   "id": "1136362e-deae-4b1f-83d4-53494c22b1af",
   "metadata": {
    "tags": []
   },
   "outputs": [],
   "source": [
    "df = pd.DataFrame.from_dict(\n",
    "    uk_series_result_hr['Values'],\n",
    "    orient='index',\n",
    "    columns=[f'{uk_price_series}']\n",
    ")\n",
    "\n",
    "df.index = pd.to_datetime(df.index)\n",
    "\n",
    "fig, ax = plt.subplots()\n",
    "df.plot(\n",
    "    rot=10,\n",
    "    figsize=[10, 5],\n",
    "    ylabel=f\"{uk_series_result_hr['Meta']['description']}\",\n",
    "    xlabel=\"Time\",\n",
    "    ax=ax\n",
    ")\n",
    "\n",
    "fig.tight_layout()"
   ]
  },
  {
   "cell_type": "markdown",
   "id": "f8229419-2da4-4f79-88f8-be17ee93da2a",
   "metadata": {},
   "source": [
    "___"
   ]
  },
  {
   "cell_type": "markdown",
   "id": "476fba72-69c8-407d-9412-514017f3a690",
   "metadata": {
    "tags": []
   },
   "source": [
    "## Retrieving several data series"
   ]
  },
  {
   "cell_type": "markdown",
   "id": "2f63d0d2-731a-4ab3-af42-d11cae7a3d63",
   "metadata": {},
   "source": [
    "Let's now try to fetch several data series using the list of series ids (__series_codes__) we got from the prefix metadata search. Here we use the previous *get_series_data()* function and loop over the series ids."
   ]
  },
  {
   "cell_type": "code",
   "execution_count": null,
   "id": "748cfc8a-31fa-45fa-ae3d-b43914640fb9",
   "metadata": {
    "tags": []
   },
   "outputs": [],
   "source": [
    "user_auth = obtain_access_token(USER, PASS, ROOT)  # We generate an access token before the loop.\n",
    "\n",
    "df_list = []\n",
    "for series in series_codes:\n",
    "    json_data = get_series_data(\n",
    "        series_id=series,\n",
    "        user_auth=user_auth,\n",
    "        from_date='today-30',\n",
    "        to_date='today+14',\n",
    "        resolution='hr'\n",
    "    )\n",
    "    df_temp = pd.DataFrame.from_dict(\n",
    "        json_data['Values'],\n",
    "        orient='index',\n",
    "        columns=[f\"{series}\"]\n",
    "    )\n",
    "    df_list.append(df_temp)\n",
    "df_tot = pd.concat(df_list, axis=1)  # Concat all the dataframes\n",
    "df_tot.index = pd.to_datetime(df_tot.index)  # Set the index to a time series"
   ]
  },
  {
   "cell_type": "markdown",
   "id": "c276791f-6567-4033-875e-5f30ea8fa1a3",
   "metadata": {},
   "source": [
    "Now we can plot the production of renewable energy and the UK spot price."
   ]
  },
  {
   "cell_type": "code",
   "execution_count": null,
   "id": "1874d654-3e2f-4863-858a-1b28464c4416",
   "metadata": {
    "tags": []
   },
   "outputs": [],
   "source": [
    "fig_tot, ax_tot = plt.subplots(\n",
    "    nrows=2, gridspec_kw={'height_ratios': [1.5, 3]})\n",
    "\n",
    "df_tot[['ukhrprice']].plot(\n",
    "    rot=10,\n",
    "    figsize=[12, 6],\n",
    "    ylabel=\"Eur/MWh\",\n",
    "    ax=ax_tot[0],\n",
    "    color='black'\n",
    ")\n",
    "\n",
    "ax_tot[0].xaxis.set_visible(False)\n",
    "\n",
    "\n",
    "df_tot[['ukhrwind', 'ukhrsolar']].plot(\n",
    "    rot=10,\n",
    "    figsize=[12, 6],\n",
    "    ylabel=\"GWh/h\",\n",
    "    xlabel='Time / month-day',\n",
    "    ax=ax_tot[1]\n",
    ")\n",
    "\n",
    "fig_tot.tight_layout()\n",
    "fig_tot.subplots_adjust(hspace=0.05)"
   ]
  },
  {
   "cell_type": "markdown",
   "id": "4b4ba82a-e959-4c8d-932c-de25a497f691",
   "metadata": {},
   "source": [
    "This concludes the Nena API interactive tutorial. If you have any further questions or want an in-person overview of the API, please don't hesitate to contact us at StormGeo Energy Markets"
   ]
  }
 ],
 "metadata": {
  "kernelspec": {
   "display_name": "Python 3 (ipykernel)",
   "language": "python",
   "name": "python3"
  },
  "language_info": {
   "codemirror_mode": {
    "name": "ipython",
    "version": 3
   },
   "file_extension": ".py",
   "mimetype": "text/x-python",
   "name": "python",
   "nbconvert_exporter": "python",
   "pygments_lexer": "ipython3",
   "version": "3.9.7"
  },
  "toc-autonumbering": false
 },
 "nbformat": 4,
 "nbformat_minor": 5
}
